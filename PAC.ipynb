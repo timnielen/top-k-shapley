{
 "cells": [
  {
   "cell_type": "code",
   "execution_count": 263,
   "metadata": {},
   "outputs": [],
   "source": [
    "from environment import Environment\n",
    "import numpy as np\n",
    "from game import SumUnanimityGames, GlobalFeatureImportance, LocalFeatureImportance, UnsupervisedFeatureImportance\n",
    "from plot import plot\n",
    "import pandas as pd"
   ]
  },
  {
   "cell_type": "code",
   "execution_count": 264,
   "metadata": {},
   "outputs": [
    {
     "name": "stdout",
     "output_type": "stream",
     "text": [
      "The autoreload extension is already loaded. To reload it, use:\n",
      "  %reload_ext autoreload\n"
     ]
    }
   ],
   "source": [
    "from algorithms.CMCS import *\n",
    "from algorithms.GapE import GapE\n",
    "from algorithms.SAR import SAR\n",
    "from algorithms.ApproShapley import ApproShapley\n",
    "from algorithms.BUS import BUS\n",
    "from algorithms.HybridApproBUS import SmartHybridApproBUS\n",
    "from algorithms.SVARM import SVARM, StratSVARM\n",
    "from algorithms.ShapleySort import ShapleySort\n",
    "from algorithms.KernelSHAP import KernelSHAP\n",
    "from algorithms.shap_k import SHAP_K\n",
    "%load_ext autoreload\n",
    "%autoreload 2\n",
    "%matplotlib inline"
   ]
  },
  {
   "cell_type": "code",
   "execution_count": 265,
   "metadata": {},
   "outputs": [],
   "source": [
    "results = []"
   ]
  },
  {
   "cell_type": "code",
   "execution_count": 266,
   "metadata": {},
   "outputs": [],
   "source": [
    "n=16\n",
    "k=5\n",
    "rounds=200\n",
    "metric = \"ratio\"\n",
    "env = Environment(n=n, budget=-1, metric=metric)\n"
   ]
  },
  {
   "cell_type": "code",
   "execution_count": 267,
   "metadata": {},
   "outputs": [],
   "source": [
    "np.set_printoptions(formatter={'float': lambda x: \"{0:0.3f}\".format(x)})"
   ]
  },
  {
   "cell_type": "code",
   "execution_count": 268,
   "metadata": {},
   "outputs": [
    {
     "name": "stdout",
     "output_type": "stream",
     "text": [
      "[0.000 -0.006 0.000 ... 0.011 0.006 0.008]\n",
      "[-0.000 -0.000 0.001 0.000 -0.000 -0.010 -0.001 0.000 0.001 0.004 0.002\n",
      " 0.004 -0.000 0.002 0.001 0.005] 0.008106116433308063\n"
     ]
    }
   ],
   "source": [
    "filepath_global = \"datasets/Global feature importance/Bank marketing classification random forest.csv\"\n",
    "filepath_unsupervised = \"datasets/Unsupervised Feature Importance/vf_BigFive.csv\"\n",
    "directory_local = \"datasets/nlp_sentiment\"\n",
    "game = GlobalFeatureImportance(filepath=filepath_global, num_players=n, use_cached=True)\n",
    "# game = LocalFeatureImportance(directory=directory_local, num_players=n)\n",
    "# game = UnsupervisedFeatureImportance(filepath=filepath_unsupervised, num_players=n)\n",
    "# game = SumUnanimityGames()"
   ]
  },
  {
   "cell_type": "code",
   "execution_count": 269,
   "metadata": {},
   "outputs": [],
   "source": [
    "t_min = 30\n",
    "delta = 0.01\n",
    "epsilon = 0.0005"
   ]
  },
  {
   "cell_type": "code",
   "execution_count": 270,
   "metadata": {},
   "outputs": [
    {
     "name": "stderr",
     "output_type": "stream",
     "text": [
      "100%|██████████| 200/200 [01:07<00:00,  2.95it/s, accuracy=0.99, func_calls=18706, topk_approx=[ 9 10 11 13 15], topk_real=[ 9 10 11 13 15]]              \n"
     ]
    }
   ],
   "source": [
    "results += [(game.name, f\"SHAP@K\", env.evaluate_PAC(game, SHAP_K(t_min, delta, epsilon), k, epsilon, rounds))]"
   ]
  },
  {
   "cell_type": "code",
   "execution_count": 271,
   "metadata": {},
   "outputs": [
    {
     "name": "stderr",
     "output_type": "stream",
     "text": [
      "100%|██████████| 200/200 [02:17<00:00,  1.45it/s, accuracy=1.0, func_calls=34831, topk_approx=[ 9 10 11 13 15], topk_real=[ 9 10 11 13 15]]\n"
     ]
    }
   ],
   "source": [
    "results += [(game.name, f\"CMCS\", env.evaluate_PAC(game, CMCS(t_min, delta, epsilon), k, epsilon, rounds))]"
   ]
  },
  {
   "cell_type": "code",
   "execution_count": 272,
   "metadata": {},
   "outputs": [
    {
     "name": "stderr",
     "output_type": "stream",
     "text": [
      "100%|██████████| 200/200 [01:09<00:00,  2.88it/s, accuracy=0.995, func_calls=10914, topk_approx=[ 9 10 11 13 15], topk_real=[ 9 10 11 13 15]]             \n"
     ]
    }
   ],
   "source": [
    "results += [(game.name, f\"CMCS@K\", env.evaluate_PAC(game, CMCS_at_K(t_min, delta, epsilon), k, epsilon, rounds))]"
   ]
  },
  {
   "cell_type": "code",
   "execution_count": 273,
   "metadata": {},
   "outputs": [
    {
     "name": "stderr",
     "output_type": "stream",
     "text": [
      "100%|██████████| 200/200 [02:36<00:00,  1.28it/s, accuracy=1.0, func_calls=13489, topk_approx=[ 9 10 11 13 15], topk_real=[ 9 10 11 13 15]]\n"
     ]
    }
   ],
   "source": [
    "results += [(game.name, f\"Greedy CMCS\", env.evaluate_PAC(game, Greedy_CMCS(t_min, delta, epsilon), k, epsilon, rounds))]\n"
   ]
  },
  {
   "cell_type": "code",
   "execution_count": 274,
   "metadata": {},
   "outputs": [
    {
     "data": {
      "text/plain": [
       "[('Bank marketing classification random forest',\n",
       "  'SHAP@K',\n",
       "  (15194.51, 281.2213859918836, 0.99)),\n",
       " ('Bank marketing classification random forest',\n",
       "  'CMCS',\n",
       "  (38466.195, 913.7680816927659, 1.0)),\n",
       " ('Bank marketing classification random forest',\n",
       "  'CMCS@K',\n",
       "  (12381.185, 188.0056148361655, 0.995)),\n",
       " ('Bank marketing classification random forest',\n",
       "  'Greedy CMCS',\n",
       "  (16150.945, 274.7223850619853, 1.0))]"
      ]
     },
     "execution_count": 274,
     "metadata": {},
     "output_type": "execute_result"
    }
   ],
   "source": [
    "results"
   ]
  },
  {
   "cell_type": "code",
   "execution_count": null,
   "metadata": {},
   "outputs": [
    {
     "data": {
      "text/html": [
       "<div>\n",
       "<style scoped>\n",
       "    .dataframe tbody tr th:only-of-type {\n",
       "        vertical-align: middle;\n",
       "    }\n",
       "\n",
       "    .dataframe tbody tr th {\n",
       "        vertical-align: top;\n",
       "    }\n",
       "\n",
       "    .dataframe thead th {\n",
       "        text-align: right;\n",
       "    }\n",
       "</style>\n",
       "<table border=\"1\" class=\"dataframe\">\n",
       "  <thead>\n",
       "    <tr style=\"text-align: right;\">\n",
       "      <th></th>\n",
       "      <th>SHAP@K</th>\n",
       "      <th>CMCS</th>\n",
       "      <th>CMCS@K</th>\n",
       "      <th>Greedy CMCS</th>\n",
       "    </tr>\n",
       "  </thead>\n",
       "  <tbody>\n",
       "    <tr>\n",
       "      <th>Bank marketing classification random forest</th>\n",
       "      <td>15194.510000</td>\n",
       "      <td>38466.195000</td>\n",
       "      <td>12381.185000</td>\n",
       "      <td>16150.945000</td>\n",
       "    </tr>\n",
       "    <tr>\n",
       "      <th>Bank marketing classification random forest - SE</th>\n",
       "      <td>281.221386</td>\n",
       "      <td>913.768082</td>\n",
       "      <td>188.005615</td>\n",
       "      <td>274.722385</td>\n",
       "    </tr>\n",
       "  </tbody>\n",
       "</table>\n",
       "</div>"
      ],
      "text/plain": [
       "                                                        SHAP@K          CMCS  \\\n",
       "Bank marketing classification random forest       15194.510000  38466.195000   \n",
       "Bank marketing classification random forest - SE    281.221386    913.768082   \n",
       "\n",
       "                                                        CMCS@K   Greedy CMCS  \n",
       "Bank marketing classification random forest       12381.185000  16150.945000  \n",
       "Bank marketing classification random forest - SE    188.005615    274.722385  "
      ]
     },
     "execution_count": 276,
     "metadata": {},
     "output_type": "execute_result"
    }
   ],
   "source": [
    "df_dict = {}\n",
    "for game, method, (value, se,acc) in results:\n",
    "    if game not in df_dict:\n",
    "        df_dict[game] = {}\n",
    "        df_dict[game + \" - SE\"] = {}\n",
    "    df_dict[game][method] = value\n",
    "    df_dict[game + \" - SE\"][method] = se\n",
    "\n",
    "# Create DataFrame\n",
    "df = pd.DataFrame.from_dict(df_dict, orient='index')\n",
    "df"
   ]
  },
  {
   "cell_type": "code",
   "execution_count": 277,
   "metadata": {},
   "outputs": [],
   "source": [
    "df.to_csv(f\"results/data/PAC/pac_k={k}_tmin={t_min}_delta={delta}_epsilon={epsilon}.csv\")"
   ]
  }
 ],
 "metadata": {
  "kernelspec": {
   "display_name": "shapley",
   "language": "python",
   "name": "python3"
  },
  "language_info": {
   "codemirror_mode": {
    "name": "ipython",
    "version": 3
   },
   "file_extension": ".py",
   "mimetype": "text/x-python",
   "name": "python",
   "nbconvert_exporter": "python",
   "pygments_lexer": "ipython3",
   "version": "3.11.2"
  },
  "orig_nbformat": 4
 },
 "nbformat": 4,
 "nbformat_minor": 2
}
