{
 "cells": [
  {
   "cell_type": "code",
   "execution_count": 1,
   "metadata": {},
   "outputs": [],
   "source": [
    "from environment import Environment\n",
    "import numpy as np\n",
    "from game import SumUnanimityGames, GlobalFeatureImportance, LocalFeatureImportance, UnsupervisedFeatureImportance\n",
    "from plot import plot\n",
    "import pandas as pd"
   ]
  },
  {
   "cell_type": "code",
   "execution_count": 2,
   "metadata": {},
   "outputs": [
    {
     "name": "stderr",
     "output_type": "stream",
     "text": [
      "c:\\Users\\Public\\anaconda3\\envs\\shapley\\Lib\\site-packages\\tqdm\\auto.py:21: TqdmWarning: IProgress not found. Please update jupyter and ipywidgets. See https://ipywidgets.readthedocs.io/en/stable/user_install.html\n",
      "  from .autonotebook import tqdm as notebook_tqdm\n"
     ]
    }
   ],
   "source": [
    "from algorithms.CMCS import *\n",
    "from algorithms.GapE import GapE\n",
    "from algorithms.SAR import SAR\n",
    "from algorithms.ApproShapley import ApproShapley\n",
    "from algorithms.BUS import BUS\n",
    "from algorithms.HybridApproBUS import SmartHybridApproBUS\n",
    "from algorithms.SVARM import SVARM, StratSVARM\n",
    "from algorithms.ShapleySort import ShapleySort\n",
    "from algorithms.KernelSHAP import KernelSHAP\n",
    "from algorithms.shap_k import SHAP_K\n",
    "%load_ext autoreload\n",
    "%autoreload 2\n",
    "%matplotlib inline"
   ]
  },
  {
   "cell_type": "code",
   "execution_count": 14,
   "metadata": {},
   "outputs": [],
   "source": [
    "df = pd.read_csv(\"results/data/PAC/pac_k=5_tmin=30_delta=0.01_epsilon=0.0005_temp.csv\", index_col=0)\n",
    "df[[\"SamplingSHAP@K\", \"CMCS\", \"CMCS@K\", \"Greedy CMCS\"]] = df[[\"SamplingSHAP@K\", \"CMCS\", \"CMCS@K\", \"Greedy CMCS\"]].astype(int)\n",
    "df.to_csv(f\"results/data/PAC/pac_k=5_tmin=30_delta=0.01_epsilon=0.0005_round.csv\")"
   ]
  },
  {
   "cell_type": "code",
   "execution_count": 4,
   "metadata": {},
   "outputs": [],
   "source": [
    "k=5\n",
    "rounds=200\n",
    "metric = \"ratio\"\n",
    "env = Environment(budget=-1, metric=metric)\n",
    "results = []"
   ]
  },
  {
   "cell_type": "code",
   "execution_count": 5,
   "metadata": {},
   "outputs": [],
   "source": [
    "np.set_printoptions(formatter={'float': lambda x: \"{0:0.3f}\".format(x)})"
   ]
  },
  {
   "cell_type": "code",
   "execution_count": 6,
   "metadata": {},
   "outputs": [
    {
     "name": "stdout",
     "output_type": "stream",
     "text": [
      "[0.000 40.776 -31.962 ... 1498.452 1512.220 1523.923]\n",
      "[56.782 28.189 638.677 73.494 -125.712 -126.210 150.160 179.125 479.528\n",
      " 169.890] 1523.9230539837763\n",
      "could not find cached values. manual reindexing...\n",
      "1000\n",
      "2000\n",
      "could not find cached shapley values. manual calculation...\n",
      "[0.000 -0.011 0.108 ... 0.220 0.228 0.201]\n",
      "[-0.006 0.024 -0.002 0.116 0.002 0.004 0.005 0.022 0.027 0.011 -0.002] 0.2014925373134333\n",
      "[0.000 0.204 0.222 ... 0.593 0.593 0.574]\n",
      "[0.066 0.043 0.012 0.026 0.031 0.036 0.080 0.015 0.006 0.079 0.050 0.046\n",
      " 0.086] 0.5740740740740702\n",
      "[0.000 0.000 0.000 ... 34.350 34.350 37.935]\n",
      "[3.275 3.275 3.123 3.275 3.123 3.275 3.123 3.123 3.275 2.972 2.972 3.123] 37.934587507932406\n"
     ]
    }
   ],
   "source": [
    "global_games = [(\"Diabetes regression random forest\",10), (\"Titanic classification random forest\",11), (\"Wine classification random forest\",13)] #(\"Adult classification random forest\", 14), (\"German credit classification random forest\", 20), (\"Bike sharing regression random forest\", 15), (\"Bank marketing classification random forest\", 16) ]\n",
    "local_games = [\"adult_classification\"] #\"nlp_sentiment\", \"image classifier\", ]\n",
    "unsupervised_games = [(\"vf_Fifa\", 12)] #(\"vf_BigFive\", 12), (\"vf_BreastCancer\", 9)\n",
    "global_games = [GlobalFeatureImportance(filepath=f\"datasets/Global feature importance/{filepath}.csv\", num_players=n) for (filepath,n) in global_games]\n",
    "local_games = [LocalFeatureImportance(directory=f\"datasets/{folder}\", num_players=14) for folder in local_games]\n",
    "unsupervised_games = [UnsupervisedFeatureImportance(filepath=f\"datasets/Unsupervised Feature Importance/{filepath}.csv\", num_players=n) for (filepath,n) in unsupervised_games]\n",
    "games = global_games #unsupervised_games #global_games + local_games + "
   ]
  },
  {
   "cell_type": "code",
   "execution_count": 7,
   "metadata": {},
   "outputs": [],
   "source": [
    "t_min = 30\n",
    "delta = 0.01\n",
    "epsilon = 0.0005"
   ]
  },
  {
   "cell_type": "code",
   "execution_count": 10,
   "metadata": {},
   "outputs": [
    {
     "name": "stderr",
     "output_type": "stream",
     "text": [
      "100%|██████████| 200/200 [00:18<00:00, 10.86it/s, accuracy=1.0, func_calls=2617, topk_approx=[2 6 7 8 9], topk_real=[2 6 7 8 9]]\n"
     ]
    },
    {
     "name": "stdout",
     "output_type": "stream",
     "text": [
      "3723.79 94.1345267429843 1.0\n"
     ]
    },
    {
     "name": "stderr",
     "output_type": "stream",
     "text": [
      "100%|██████████| 200/200 [00:31<00:00,  6.37it/s, accuracy=1.0, func_calls=7744, topk_approx=[2 6 7 8 9], topk_real=[2 6 7 8 9]] \n"
     ]
    },
    {
     "name": "stdout",
     "output_type": "stream",
     "text": [
      "7793.9 143.69041802136906 1.0\n"
     ]
    },
    {
     "name": "stderr",
     "output_type": "stream",
     "text": [
      "100%|██████████| 200/200 [00:17<00:00, 11.20it/s, accuracy=1.0, func_calls=2377, topk_approx=[2 6 7 8 9], topk_real=[2 6 7 8 9]]\n"
     ]
    },
    {
     "name": "stdout",
     "output_type": "stream",
     "text": [
      "2976.81 55.70041472469045 1.0\n"
     ]
    },
    {
     "name": "stderr",
     "output_type": "stream",
     "text": [
      "100%|██████████| 200/200 [00:48<00:00,  4.12it/s, accuracy=1.0, func_calls=5022, topk_approx=[2 6 7 8 9], topk_real=[2 6 7 8 9]]\n"
     ]
    },
    {
     "name": "stdout",
     "output_type": "stream",
     "text": [
      "4593.885 85.8339990085748 1.0\n"
     ]
    },
    {
     "name": "stderr",
     "output_type": "stream",
     "text": [
      "100%|██████████| 200/200 [00:22<00:00,  8.90it/s, accuracy=1.0, func_calls=5900, topk_approx=[1 3 7 8 9], topk_real=[1 3 7 8 9]]\n"
     ]
    },
    {
     "name": "stdout",
     "output_type": "stream",
     "text": [
      "4852.385 113.95817593832815 1.0\n"
     ]
    },
    {
     "name": "stderr",
     "output_type": "stream",
     "text": [
      "100%|██████████| 200/200 [00:42<00:00,  4.72it/s, accuracy=1.0, func_calls=9889, topk_approx=[1 3 7 8 9], topk_real=[1 3 7 8 9]] \n"
     ]
    },
    {
     "name": "stdout",
     "output_type": "stream",
     "text": [
      "11036.54 237.34245161515773 1.0\n"
     ]
    },
    {
     "name": "stderr",
     "output_type": "stream",
     "text": [
      "100%|██████████| 200/200 [00:22<00:00,  8.88it/s, accuracy=1.0, func_calls=2738, topk_approx=[1 3 7 8 9], topk_real=[1 3 7 8 9]]\n"
     ]
    },
    {
     "name": "stdout",
     "output_type": "stream",
     "text": [
      "3884.355 72.8894781501418 1.0\n"
     ]
    },
    {
     "name": "stderr",
     "output_type": "stream",
     "text": [
      "100%|██████████| 200/200 [01:04<00:00,  3.12it/s, accuracy=1.0, func_calls=3170, topk_approx=[1 3 7 8 9], topk_real=[1 3 7 8 9]] \n"
     ]
    },
    {
     "name": "stdout",
     "output_type": "stream",
     "text": [
      "5782.5 124.55654141814573 1.0\n"
     ]
    },
    {
     "name": "stderr",
     "output_type": "stream",
     "text": [
      "100%|██████████| 200/200 [02:35<00:00,  1.29it/s, accuracy=0.995, func_calls=22911, topk_approx=[ 0  6  9 10 12], topk_real=[ 0  6  9 10 12]]             \n"
     ]
    },
    {
     "name": "stdout",
     "output_type": "stream",
     "text": [
      "34953.235 1046.3809084298641 0.995\n"
     ]
    },
    {
     "name": "stderr",
     "output_type": "stream",
     "text": [
      "100%|██████████| 200/200 [07:18<00:00,  2.19s/it, accuracy=1.0, func_calls=136563, topk_approx=[ 0  6  9 10 12], topk_real=[ 0  6  9 10 12]]\n"
     ]
    },
    {
     "name": "stdout",
     "output_type": "stream",
     "text": [
      "120859.6 1906.7297825645335 1.0\n"
     ]
    },
    {
     "name": "stderr",
     "output_type": "stream",
     "text": [
      "100%|██████████| 200/200 [02:55<00:00,  1.14it/s, accuracy=0.995, func_calls=31131, topk_approx=[ 0  6  9 10 12], topk_real=[ 0  6  9 10 12]]             \n"
     ]
    },
    {
     "name": "stdout",
     "output_type": "stream",
     "text": [
      "29913.685 641.4122550148941 0.995\n"
     ]
    },
    {
     "name": "stderr",
     "output_type": "stream",
     "text": [
      "100%|██████████| 200/200 [07:45<00:00,  2.33s/it, accuracy=1.0, func_calls=34315, topk_approx=[ 0  6  9 10 12], topk_real=[ 0  6  9 10 12]]"
     ]
    },
    {
     "name": "stdout",
     "output_type": "stream",
     "text": [
      "34265.77 501.77920662028475 1.0\n"
     ]
    },
    {
     "name": "stderr",
     "output_type": "stream",
     "text": [
      "\n"
     ]
    }
   ],
   "source": [
    "for game in games:\n",
    "    results += [(game.name, f\"SamplingSHAP@K\", env.evaluate_PAC(game, SHAP_K(t_min, delta, epsilon), k, epsilon, rounds))]\n",
    "    results += [(game.name, f\"CMCS\", env.evaluate_PAC(game, CMCS(t_min, delta, epsilon), k, epsilon, rounds))]\n",
    "    results += [(game.name, f\"CMCS@K\", env.evaluate_PAC(game, CMCS_at_K(t_min, delta, epsilon), k, epsilon, rounds))]\n",
    "    results += [(game.name, f\"Greedy CMCS\", env.evaluate_PAC(game, Greedy_CMCS(t_min, delta, epsilon), k, epsilon, rounds))]\n",
    "    "
   ]
  },
  {
   "cell_type": "code",
   "execution_count": 11,
   "metadata": {},
   "outputs": [
    {
     "data": {
      "text/plain": [
       "[('Diabetes regression random forest',\n",
       "  'SamplingSHAP@K',\n",
       "  (3723.79, 94.1345267429843, 1.0)),\n",
       " ('Diabetes regression random forest',\n",
       "  'CMCS',\n",
       "  (7793.9, 143.69041802136906, 1.0)),\n",
       " ('Diabetes regression random forest',\n",
       "  'CMCS@K',\n",
       "  (2976.81, 55.70041472469045, 1.0)),\n",
       " ('Diabetes regression random forest',\n",
       "  'Greedy CMCS',\n",
       "  (4593.885, 85.8339990085748, 1.0)),\n",
       " ('Titanic classification random forest',\n",
       "  'SamplingSHAP@K',\n",
       "  (4852.385, 113.95817593832815, 1.0)),\n",
       " ('Titanic classification random forest',\n",
       "  'CMCS',\n",
       "  (11036.54, 237.34245161515773, 1.0)),\n",
       " ('Titanic classification random forest',\n",
       "  'CMCS@K',\n",
       "  (3884.355, 72.8894781501418, 1.0)),\n",
       " ('Titanic classification random forest',\n",
       "  'Greedy CMCS',\n",
       "  (5782.5, 124.55654141814573, 1.0)),\n",
       " ('Wine classification random forest',\n",
       "  'SamplingSHAP@K',\n",
       "  (34953.235, 1046.3809084298641, 0.995)),\n",
       " ('Wine classification random forest',\n",
       "  'CMCS',\n",
       "  (120859.6, 1906.7297825645335, 1.0)),\n",
       " ('Wine classification random forest',\n",
       "  'CMCS@K',\n",
       "  (29913.685, 641.4122550148941, 0.995)),\n",
       " ('Wine classification random forest',\n",
       "  'Greedy CMCS',\n",
       "  (34265.77, 501.77920662028475, 1.0))]"
      ]
     },
     "execution_count": 11,
     "metadata": {},
     "output_type": "execute_result"
    }
   ],
   "source": [
    "results"
   ]
  },
  {
   "cell_type": "code",
   "execution_count": 12,
   "metadata": {},
   "outputs": [
    {
     "data": {
      "text/html": [
       "<div>\n",
       "<style scoped>\n",
       "    .dataframe tbody tr th:only-of-type {\n",
       "        vertical-align: middle;\n",
       "    }\n",
       "\n",
       "    .dataframe tbody tr th {\n",
       "        vertical-align: top;\n",
       "    }\n",
       "\n",
       "    .dataframe thead th {\n",
       "        text-align: right;\n",
       "    }\n",
       "</style>\n",
       "<table border=\"1\" class=\"dataframe\">\n",
       "  <thead>\n",
       "    <tr style=\"text-align: right;\">\n",
       "      <th></th>\n",
       "      <th>SamplingSHAP@K</th>\n",
       "      <th>CMCS</th>\n",
       "      <th>CMCS@K</th>\n",
       "      <th>Greedy CMCS</th>\n",
       "    </tr>\n",
       "  </thead>\n",
       "  <tbody>\n",
       "    <tr>\n",
       "      <th>Diabetes regression random forest</th>\n",
       "      <td>3723.790000</td>\n",
       "      <td>7793.900000</td>\n",
       "      <td>2976.810000</td>\n",
       "      <td>4593.885000</td>\n",
       "    </tr>\n",
       "    <tr>\n",
       "      <th>Diabetes regression random forest - SE</th>\n",
       "      <td>94.134527</td>\n",
       "      <td>143.690418</td>\n",
       "      <td>55.700415</td>\n",
       "      <td>85.833999</td>\n",
       "    </tr>\n",
       "    <tr>\n",
       "      <th>Titanic classification random forest</th>\n",
       "      <td>4852.385000</td>\n",
       "      <td>11036.540000</td>\n",
       "      <td>3884.355000</td>\n",
       "      <td>5782.500000</td>\n",
       "    </tr>\n",
       "    <tr>\n",
       "      <th>Titanic classification random forest - SE</th>\n",
       "      <td>113.958176</td>\n",
       "      <td>237.342452</td>\n",
       "      <td>72.889478</td>\n",
       "      <td>124.556541</td>\n",
       "    </tr>\n",
       "    <tr>\n",
       "      <th>Wine classification random forest</th>\n",
       "      <td>34953.235000</td>\n",
       "      <td>120859.600000</td>\n",
       "      <td>29913.685000</td>\n",
       "      <td>34265.770000</td>\n",
       "    </tr>\n",
       "    <tr>\n",
       "      <th>Wine classification random forest - SE</th>\n",
       "      <td>1046.380908</td>\n",
       "      <td>1906.729783</td>\n",
       "      <td>641.412255</td>\n",
       "      <td>501.779207</td>\n",
       "    </tr>\n",
       "  </tbody>\n",
       "</table>\n",
       "</div>"
      ],
      "text/plain": [
       "                                           SamplingSHAP@K           CMCS  \\\n",
       "Diabetes regression random forest             3723.790000    7793.900000   \n",
       "Diabetes regression random forest - SE          94.134527     143.690418   \n",
       "Titanic classification random forest          4852.385000   11036.540000   \n",
       "Titanic classification random forest - SE      113.958176     237.342452   \n",
       "Wine classification random forest            34953.235000  120859.600000   \n",
       "Wine classification random forest - SE        1046.380908    1906.729783   \n",
       "\n",
       "                                                 CMCS@K   Greedy CMCS  \n",
       "Diabetes regression random forest           2976.810000   4593.885000  \n",
       "Diabetes regression random forest - SE        55.700415     85.833999  \n",
       "Titanic classification random forest        3884.355000   5782.500000  \n",
       "Titanic classification random forest - SE     72.889478    124.556541  \n",
       "Wine classification random forest          29913.685000  34265.770000  \n",
       "Wine classification random forest - SE       641.412255    501.779207  "
      ]
     },
     "execution_count": 12,
     "metadata": {},
     "output_type": "execute_result"
    }
   ],
   "source": [
    "df_dict = {}\n",
    "for game, method, (value, se,acc) in results:\n",
    "    if game not in df_dict:\n",
    "        df_dict[game] = {}\n",
    "        df_dict[game + \" - SE\"] = {}\n",
    "    df_dict[game][method] = value\n",
    "    df_dict[game + \" - SE\"][method] = se\n",
    "\n",
    "# Create DataFrame\n",
    "df = pd.DataFrame.from_dict(df_dict, orient='index')\n",
    "df"
   ]
  },
  {
   "cell_type": "code",
   "execution_count": 13,
   "metadata": {},
   "outputs": [],
   "source": [
    "df.to_csv(f\"results/data/PAC/pac_k={k}_tmin={t_min}_delta={delta}_epsilon={epsilon}.csv\")"
   ]
  }
 ],
 "metadata": {
  "kernelspec": {
   "display_name": "shapley",
   "language": "python",
   "name": "python3"
  },
  "language_info": {
   "codemirror_mode": {
    "name": "ipython",
    "version": 3
   },
   "file_extension": ".py",
   "mimetype": "text/x-python",
   "name": "python",
   "nbconvert_exporter": "python",
   "pygments_lexer": "ipython3",
   "version": "3.11.2"
  },
  "orig_nbformat": 4
 },
 "nbformat": 4,
 "nbformat_minor": 2
}
