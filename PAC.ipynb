{
 "cells": [
  {
   "cell_type": "code",
   "execution_count": 265,
   "metadata": {},
   "outputs": [],
   "source": [
    "from environment import Environment\n",
    "import numpy as np\n",
    "from game import SumUnanimityGames, GlobalFeatureImportance, LocalFeatureImportance, UnsupervisedFeatureImportance\n",
    "from plot import plot"
   ]
  },
  {
   "cell_type": "code",
   "execution_count": 266,
   "metadata": {},
   "outputs": [
    {
     "name": "stdout",
     "output_type": "stream",
     "text": [
      "The autoreload extension is already loaded. To reload it, use:\n",
      "  %reload_ext autoreload\n"
     ]
    }
   ],
   "source": [
    "from algorithms.CMCS import *\n",
    "from algorithms.GapE import GapE\n",
    "from algorithms.SAR import SAR\n",
    "from algorithms.ApproShapley import ApproShapley\n",
    "from algorithms.BUS import BUS\n",
    "from algorithms.HybridApproBUS import SmartHybridApproBUS\n",
    "from algorithms.SVARM import SVARM, StratSVARM\n",
    "from algorithms.ShapleySort import ShapleySort\n",
    "from algorithms.KernelSHAP import KernelSHAP\n",
    "from algorithms.shap_k import SHAP_K\n",
    "%load_ext autoreload\n",
    "%autoreload 2\n",
    "%matplotlib inline"
   ]
  },
  {
   "cell_type": "code",
   "execution_count": 267,
   "metadata": {},
   "outputs": [],
   "source": [
    "n=15\n",
    "k=5\n",
    "rounds=20\n",
    "metric = \"ratio\"\n",
    "env = Environment(n=n, budget=-1, metric=metric)\n",
    "results = []"
   ]
  },
  {
   "cell_type": "code",
   "execution_count": 268,
   "metadata": {},
   "outputs": [],
   "source": [
    "np.set_printoptions(formatter={'float': lambda x: \"{0:0.3f}\".format(x)})"
   ]
  },
  {
   "cell_type": "code",
   "execution_count": 269,
   "metadata": {},
   "outputs": [
    {
     "name": "stdout",
     "output_type": "stream",
     "text": [
      "[0.000 33408.278 33408.278 ... 42740.689 42740.689 42734.392]\n",
      "[6690.038 6690.038 2158.998 3901.994 2393.990 58.970 475.725 674.210\n",
      " 1000.652 2213.801 1700.790 -253.814 -1068.698 5445.858 10651.839] 42734.391623665346\n"
     ]
    }
   ],
   "source": [
    "filepath_global = \"datasets/Global feature importance/Bike sharing regression random forest.csv\"\n",
    "filepath_unsupervised = \"datasets/Unsupervised Feature Importance/vf_BigFive.csv\"\n",
    "directory_local = \"datasets/nlp_sentiment\"\n",
    "game = GlobalFeatureImportance(filepath=filepath_global, num_players=n, use_cached=True)\n",
    "# game = LocalFeatureImportance(directory=directory_local, num_players=n)\n",
    "# game = UnsupervisedFeatureImportance(filepath=filepath_unsupervised, num_players=n)\n",
    "# game = SumUnanimityGames()"
   ]
  },
  {
   "cell_type": "code",
   "execution_count": 270,
   "metadata": {},
   "outputs": [],
   "source": [
    "t_min = 30\n",
    "delta = 0.01\n",
    "epsilon = 0.005"
   ]
  },
  {
   "cell_type": "code",
   "execution_count": 271,
   "metadata": {},
   "outputs": [
    {
     "name": "stdout",
     "output_type": "stream",
     "text": [
      "6139\n",
      "topk_real:    [ 0  1  3 13 14]\n",
      "topk_approx:  [ 0  1  3 13 14]\n",
      "4956\n",
      "topk_real:    [ 0  1  3 13 14]\n",
      "topk_approx:  [ 0  1  3 13 14]\n",
      "4651\n",
      "topk_real:    [ 0  1  3 13 14]\n",
      "topk_approx:  [ 0  1  3 13 14]\n",
      "3550\n",
      "topk_real:    [ 0  1  3 13 14]\n",
      "topk_approx:  [ 0  1  3 13 14]\n",
      "3542\n",
      "topk_real:    [ 0  1  3 13 14]\n",
      "topk_approx:  [ 0  1  3 13 14]\n",
      "6547\n",
      "topk_real:    [ 0  1  3 13 14]\n",
      "topk_approx:  [ 0  1  3 13 14]\n",
      "3771\n",
      "topk_real:    [ 0  1  3 13 14]\n",
      "topk_approx:  [ 0  1  3 13 14]\n",
      "2860\n",
      "topk_real:    [ 0  1  3 13 14]\n",
      "topk_approx:  [ 0  1  3 13 14]\n",
      "8317\n",
      "topk_real:    [ 0  1  3 13 14]\n",
      "topk_approx:  [ 0  1  3 13 14]\n",
      "7727\n",
      "topk_real:    [ 0  1  3 13 14]\n",
      "topk_approx:  [ 0  1  3 13 14]\n",
      "4865\n",
      "topk_real:    [ 0  1  3 13 14]\n",
      "topk_approx:  [ 0  1  3 13 14]\n",
      "8928\n",
      "topk_real:    [ 0  1  3 13 14]\n",
      "topk_approx:  [ 0  1  3 13 14]\n",
      "4494\n",
      "topk_real:    [ 0  1  3 13 14]\n",
      "topk_approx:  [ 0  1  3 13 14]\n",
      "4062\n",
      "topk_real:    [ 0  1  3 13 14]\n",
      "topk_approx:  [ 0  1  3 13 14]\n",
      "3800\n",
      "topk_real:    [ 0  1  3 13 14]\n",
      "topk_approx:  [ 0  1  3 13 14]\n",
      "4217\n",
      "topk_real:    [ 0  1  3 13 14]\n",
      "topk_approx:  [ 0  1  3 13 14]\n",
      "5985\n",
      "topk_real:    [ 0  1  3 13 14]\n",
      "topk_approx:  [ 0  1  3 13 14]\n",
      "3370\n",
      "topk_real:    [ 0  1  3 13 14]\n",
      "topk_approx:  [ 0  1  3 13 14]\n",
      "2787\n",
      "topk_real:    [ 0  1  3 13 14]\n",
      "topk_approx:  [ 0  1  3 13 14]\n",
      "4844\n",
      "topk_real:    [ 0  1  3 13 14]\n",
      "topk_approx:  [ 0  1  3 13 14]\n"
     ]
    }
   ],
   "source": [
    "results += [(f\"SHAP@K(t_min={t_min}, delta={delta}, epsilon={epsilon})\", env.evaluate_PAC(game, SHAP_K(t_min, delta, epsilon), k, rounds))]"
   ]
  },
  {
   "cell_type": "code",
   "execution_count": 272,
   "metadata": {},
   "outputs": [
    {
     "name": "stdout",
     "output_type": "stream",
     "text": [
      "9879\n",
      "topk_real:    [ 0  1  3 13 14]\n",
      "topk_approx:  [ 0  1  3 13 14]\n",
      "7942\n",
      "topk_real:    [ 0  1  3 13 14]\n",
      "topk_approx:  [ 0  1  3 13 14]\n",
      "8312\n",
      "topk_real:    [ 0  1  3 13 14]\n",
      "topk_approx:  [ 0  1  3 13 14]\n",
      "9196\n",
      "topk_real:    [ 0  1  3 13 14]\n",
      "topk_approx:  [ 0  1  3 13 14]\n",
      "9999\n",
      "topk_real:    [ 0  1  3 13 14]\n",
      "topk_approx:  [ 0  1  3 13 14]\n",
      "7421\n",
      "topk_real:    [ 0  1  3 13 14]\n",
      "topk_approx:  [ 0  1  3 13 14]\n",
      "7077\n",
      "topk_real:    [ 0  1  3 13 14]\n",
      "topk_approx:  [ 0  1  3 13 14]\n",
      "11356\n",
      "topk_real:    [ 0  1  3 13 14]\n",
      "topk_approx:  [ 0  1  3 13 14]\n",
      "9595\n",
      "topk_real:    [ 0  1  3 13 14]\n",
      "topk_approx:  [ 0  1  3 13 14]\n",
      "10502\n",
      "topk_real:    [ 0  1  3 13 14]\n",
      "topk_approx:  [ 0  1  3 13 14]\n",
      "7764\n",
      "topk_real:    [ 0  1  3 13 14]\n",
      "topk_approx:  [ 0  1  3 13 14]\n",
      "8520\n",
      "topk_real:    [ 0  1  3 13 14]\n",
      "topk_approx:  [ 0  1  3 13 14]\n",
      "9956\n",
      "topk_real:    [ 0  1  3 13 14]\n",
      "topk_approx:  [ 0  1  3 13 14]\n",
      "8230\n",
      "topk_real:    [ 0  1  3 13 14]\n",
      "topk_approx:  [ 0  1  3 13 14]\n",
      "9860\n",
      "topk_real:    [ 0  1  3 13 14]\n",
      "topk_approx:  [ 0  1  3 13 14]\n",
      "7219\n",
      "topk_real:    [ 0  1  3 13 14]\n",
      "topk_approx:  [ 0  1  3 13 14]\n",
      "10058\n",
      "topk_real:    [ 0  1  3 13 14]\n",
      "topk_approx:  [ 0  1  3 13 14]\n",
      "8017\n",
      "topk_real:    [ 0  1  3 13 14]\n",
      "topk_approx:  [ 0  1  3 13 14]\n",
      "9353\n",
      "topk_real:    [ 0  1  3 13 14]\n",
      "topk_approx:  [ 0  1  3 13 14]\n",
      "8631\n",
      "topk_real:    [ 0  1  3 13 14]\n",
      "topk_approx:  [ 0  1  3 13 14]\n"
     ]
    }
   ],
   "source": [
    "results += [(f\"Greedy CMCS(t_min={t_min}, delta={delta}, epsilon={epsilon})\", env.evaluate_PAC(game, Greedy_CMCS(t_min, delta, epsilon), k, rounds))]\n"
   ]
  },
  {
   "cell_type": "code",
   "execution_count": 273,
   "metadata": {},
   "outputs": [
    {
     "name": "stdout",
     "output_type": "stream",
     "text": [
      "3789\n",
      "topk_real:    [ 0  1  3 13 14]\n",
      "topk_approx:  [ 0  1  3 13 14]\n",
      "3434\n",
      "topk_real:    [ 0  1  3 13 14]\n",
      "topk_approx:  [ 0  1  3 13 14]\n",
      "4678\n",
      "topk_real:    [ 0  1  3 13 14]\n",
      "topk_approx:  [ 0  1  3 13 14]\n",
      "3596\n",
      "topk_real:    [ 0  1  3 13 14]\n",
      "topk_approx:  [ 0  1  3 13 14]\n",
      "4704\n",
      "topk_real:    [ 0  1  3 13 14]\n",
      "topk_approx:  [ 0  1  3 13 14]\n",
      "4273\n",
      "topk_real:    [ 0  1  3 13 14]\n",
      "topk_approx:  [ 0  1  3 13 14]\n",
      "2651\n",
      "topk_real:    [ 0  1  3 13 14]\n",
      "topk_approx:  [ 0  1  3 13 14]\n",
      "4347\n",
      "topk_real:    [ 0  1  3 13 14]\n",
      "topk_approx:  [ 0  1  3 13 14]\n",
      "4990\n",
      "topk_real:    [ 0  1  3 13 14]\n",
      "topk_approx:  [ 0  1  3 13 14]\n",
      "3608\n",
      "topk_real:    [ 0  1  3 13 14]\n",
      "topk_approx:  [ 0  1  3 13 14]\n",
      "2976\n",
      "topk_real:    [ 0  1  3 13 14]\n",
      "topk_approx:  [ 0  1  3 13 14]\n",
      "5058\n",
      "topk_real:    [ 0  1  3 13 14]\n",
      "topk_approx:  [ 0  1  3 13 14]\n",
      "3614\n",
      "topk_real:    [ 0  1  3 13 14]\n",
      "topk_approx:  [ 0  1  3 13 14]\n",
      "3636\n",
      "topk_real:    [ 0  1  3 13 14]\n",
      "topk_approx:  [ 0  1  3 13 14]\n",
      "3990\n",
      "topk_real:    [ 0  1  3 13 14]\n",
      "topk_approx:  [ 0  1  3 13 14]\n",
      "4448\n",
      "topk_real:    [ 0  1  3 13 14]\n",
      "topk_approx:  [ 0  1  3 13 14]\n",
      "4019\n",
      "topk_real:    [ 0  1  3 13 14]\n",
      "topk_approx:  [ 0  1  3 13 14]\n",
      "3230\n",
      "topk_real:    [ 0  1  3 13 14]\n",
      "topk_approx:  [ 0  1  3 13 14]\n",
      "4082\n",
      "topk_real:    [ 0  1  3 13 14]\n",
      "topk_approx:  [ 0  1  3 13 14]\n",
      "2416\n",
      "topk_real:    [ 0  1  3 13 14]\n",
      "topk_approx:  [ 0  1  3 13 14]\n"
     ]
    }
   ],
   "source": [
    "results += [(f\"CMCS@K(t_min={t_min}, delta={delta}, epsilon={epsilon})\", env.evaluate_PAC(game, CMCS_at_K(t_min, delta, epsilon), k, rounds))]"
   ]
  },
  {
   "cell_type": "code",
   "execution_count": 274,
   "metadata": {},
   "outputs": [
    {
     "name": "stdout",
     "output_type": "stream",
     "text": [
      "11103\n",
      "topk_real:    [ 0  1  3 13 14]\n",
      "topk_approx:  [ 0  1  3 13 14]\n",
      "12948\n",
      "topk_real:    [ 0  1  3 13 14]\n",
      "topk_approx:  [ 0  1  3 13 14]\n",
      "8875\n",
      "topk_real:    [ 0  1  3 13 14]\n",
      "topk_approx:  [ 0  1  3 13 14]\n",
      "10589\n",
      "topk_real:    [ 0  1  3 13 14]\n",
      "topk_approx:  [ 0  1  3 13 14]\n",
      "13073\n",
      "topk_real:    [ 0  1  3 13 14]\n",
      "topk_approx:  [ 0  1  3 13 14]\n",
      "10956\n",
      "topk_real:    [ 0  1  3 13 14]\n",
      "topk_approx:  [ 0  1  3 13 14]\n",
      "16014\n",
      "topk_real:    [ 0  1  3 13 14]\n",
      "topk_approx:  [ 0  1  3 13 14]\n",
      "13380\n",
      "topk_real:    [ 0  1  3 13 14]\n",
      "topk_approx:  [ 0  1  3 13 14]\n",
      "12426\n",
      "topk_real:    [ 0  1  3 13 14]\n",
      "topk_approx:  [ 0  1  3 13 14]\n",
      "12847\n",
      "topk_real:    [ 0  1  3 13 14]\n",
      "topk_approx:  [ 0  1  3 13 14]\n",
      "10975\n",
      "topk_real:    [ 0  1  3 13 14]\n",
      "topk_approx:  [ 0  1  3 13 14]\n",
      "12105\n",
      "topk_real:    [ 0  1  3 13 14]\n",
      "topk_approx:  [ 0  1  3 13 14]\n",
      "18560\n",
      "topk_real:    [ 0  1  3 13 14]\n",
      "topk_approx:  [ 0  1  3 13 14]\n",
      "11828\n",
      "topk_real:    [ 0  1  3 13 14]\n",
      "topk_approx:  [ 0  1  3 13 14]\n",
      "15488\n",
      "topk_real:    [ 0  1  3 13 14]\n",
      "topk_approx:  [ 0  1  3 13 14]\n",
      "10028\n",
      "topk_real:    [ 0  1  3 13 14]\n",
      "topk_approx:  [ 0  1  3 13 14]\n",
      "14829\n",
      "topk_real:    [ 0  1  3 13 14]\n",
      "topk_approx:  [ 0  1  3 13 14]\n",
      "12355\n",
      "topk_real:    [ 0  1  3 13 14]\n",
      "topk_approx:  [ 0  1  3 13 14]\n",
      "11150\n",
      "topk_real:    [ 0  1  3 13 14]\n",
      "topk_approx:  [ 0  1  3 13 14]\n",
      "17369\n",
      "topk_real:    [ 0  1  3 13 14]\n",
      "topk_approx:  [ 0  1  3 13 14]\n"
     ]
    }
   ],
   "source": [
    "results += [(f\"CMCS(t_min={t_min}, delta={delta}, epsilon={epsilon})\", env.evaluate_PAC(game, CMCS(t_min, delta, epsilon), k, rounds))]"
   ]
  },
  {
   "cell_type": "code",
   "execution_count": 275,
   "metadata": {},
   "outputs": [
    {
     "data": {
      "text/plain": [
       "[('SHAP@K(t_min=30, delta=0.01, epsilon=0.005)', (4970.6, 396.49620294193033)),\n",
       " ('Greedy CMCS(t_min=30, delta=0.01, epsilon=0.005)',\n",
       "  (8944.35, 267.6146018654045)),\n",
       " ('CMCS@K(t_min=30, delta=0.01, epsilon=0.005)',\n",
       "  (3876.95, 162.93643376288932)),\n",
       " ('CMCS(t_min=30, delta=0.01, epsilon=0.005)', (12844.9, 557.7142585684235))]"
      ]
     },
     "execution_count": 275,
     "metadata": {},
     "output_type": "execute_result"
    }
   ],
   "source": [
    "results"
   ]
  }
 ],
 "metadata": {
  "kernelspec": {
   "display_name": "shapley",
   "language": "python",
   "name": "python3"
  },
  "language_info": {
   "codemirror_mode": {
    "name": "ipython",
    "version": 3
   },
   "file_extension": ".py",
   "mimetype": "text/x-python",
   "name": "python",
   "nbconvert_exporter": "python",
   "pygments_lexer": "ipython3",
   "version": "3.11.2"
  },
  "orig_nbformat": 4
 },
 "nbformat": 4,
 "nbformat_minor": 2
}
