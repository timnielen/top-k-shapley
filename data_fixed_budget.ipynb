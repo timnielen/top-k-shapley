{
 "cells": [
  {
   "cell_type": "code",
   "execution_count": 16,
   "metadata": {},
   "outputs": [
    {
     "name": "stdout",
     "output_type": "stream",
     "text": [
      "The autoreload extension is already loaded. To reload it, use:\n",
      "  %reload_ext autoreload\n"
     ]
    }
   ],
   "source": [
    "from game import GlobalFeatureImportance, LocalFeatureImportance, UnsupervisedFeatureImportance\n",
    "from environment import FixedBudgetEnvironment\n",
    "from algorithms.SVARM import StratSVARM\n",
    "from algorithms.CMCS import CMCS, CMCS_Dependent, CMCS_Independent, CMCS_Length, Selective_CMCS, CMCS_at_K, Greedy_CMCS\n",
    "from algorithms.KernelSHAP import KernelSHAP\n",
    "from algorithms.ApproShapley import ApproShapley\n",
    "from algorithms.shap_k import SHAP_K\n",
    "from algorithms.BUS import BUS\n",
    "import numpy as np\n",
    "import pandas as pd\n",
    "import os\n",
    "%load_ext autoreload\n",
    "%autoreload 2"
   ]
  },
  {
   "cell_type": "code",
   "execution_count": 17,
   "metadata": {},
   "outputs": [],
   "source": [
    "n=10\n",
    "K=np.arange(n-1)+1\n",
    "budget=1000\n",
    "rounds=1000\n",
    "env = FixedBudgetEnvironment(n=n, budget=budget)"
   ]
  },
  {
   "cell_type": "code",
   "execution_count": 18,
   "metadata": {},
   "outputs": [
    {
     "name": "stdout",
     "output_type": "stream",
     "text": [
      "[   0.           40.77553468  -31.96247587 ... 1498.45186977 1512.2198209\n",
      " 1523.92305398]\n",
      "[  56.78153812   28.18850965  638.67726364   73.49364434 -125.71211038\n",
      " -126.20984618  150.15987258  179.12531564  479.52837032  169.89049626] 1523.9230539837763\n"
     ]
    }
   ],
   "source": [
    "filepath_global = \"datasets/Global feature importance/Diabetes regression random forest.csv\"\n",
    "filepath_unsupervised = \"datasets/Unsupervised Feature Importance/vf_Fifa.csv\"\n",
    "directory_local = \"datasets/adult_classification\"\n",
    "game = GlobalFeatureImportance(filepath=filepath_global, num_players=n, use_cached=True)\n",
    "# game = LocalFeatureImportance(directory=directory_local, num_players=n)\n",
    "# game = UnsupervisedFeatureImportance(filepath=filepath_unsupervised, num_players=n)\n",
    "# game = SumUnanimityGames()"
   ]
  },
  {
   "cell_type": "code",
   "execution_count": 19,
   "metadata": {},
   "outputs": [],
   "source": [
    "algorithms = [\n",
    "              (\"BUS\", BUS()), \n",
    "            #   (\"ApproShapley\", ApproShapley(optimize=True)), \n",
    "            #   (\"CMCS\", CMCS()), \n",
    "            #   (\"KernelSHAP\", KernelSHAP()), \n",
    "            #   (\"StratSVARM(False,False)\", StratSVARM(start_exact=False, theoretical_distribution=False)),\n",
    "              # (\"SHAPatK_30_001\", SHAP_K(t_min=30, delta=0.01)),\n",
    "            #   (\"CMCSatK_30_001\", CMCS_at_K(t_min=30, delta=0.01)),\n",
    "            #   (\"Greedy_CMCS(T_min=30)\", Greedy_CMCS(t_min=30)),\n",
    "              ]"
   ]
  },
  {
   "cell_type": "code",
   "execution_count": 20,
   "metadata": {},
   "outputs": [
    {
     "name": "stdout",
     "output_type": "stream",
     "text": [
      "BUS\n"
     ]
    }
   ],
   "source": [
    "results = []\n",
    "for name, algorithm in algorithms:\n",
    "    print(name)\n",
    "    results += [(name, env.evaluate(game, algorithm, K=K, rounds=rounds))]\n",
    "columns = [\"K\", \"topk_ratio\", \"topk_ratio_SE\", \"epsilon\", \"epsilon_SE\"]"
   ]
  },
  {
   "cell_type": "code",
   "execution_count": 21,
   "metadata": {},
   "outputs": [
    {
     "name": "stdout",
     "output_type": "stream",
     "text": [
      "results/data/GlobalFeatureImportance/Diabetes regression random forest/budget=1000_rounds=1000/k=1-9/BUS.csv\n"
     ]
    }
   ],
   "source": [
    "for name, result in results:\n",
    "    df = pd.DataFrame(data={column: result[index] for index, column in enumerate(columns)})\n",
    "    df[\"topk_ratio_SE_plus\"] = df[\"topk_ratio\"] + df[\"topk_ratio_SE\"]\n",
    "    df[\"topk_ratio_SE_minus\"] = df[\"topk_ratio\"] - df[\"topk_ratio_SE\"]\n",
    "\n",
    "    df[\"epsilon_SE_plus\"] = df[\"epsilon\"] + df[\"epsilon_SE\"]\n",
    "    df[\"epsilon_SE_minus\"] = df[\"epsilon\"] - df[\"epsilon_SE\"]\n",
    "\n",
    "    df = df[[\"K\", \"topk_ratio\", \"topk_ratio_SE_plus\", \"topk_ratio_SE_minus\", \"epsilon\", \"epsilon_SE_plus\", \"epsilon_SE_minus\"]]\n",
    "    \n",
    "    \n",
    "    dir = f\"results/data/{game.__class__.__name__}/{game.name}/budget={budget}_rounds={rounds}/k={K[0]}-{K[-1]}\"\n",
    "    if not os.path.isdir(dir):\n",
    "        os.makedirs(dir)\n",
    "    print(f\"{dir}/{name}.csv\")\n",
    "    df.to_csv(f\"{dir}/{name}.csv\", index=False)"
   ]
  }
 ],
 "metadata": {
  "kernelspec": {
   "display_name": "shapley",
   "language": "python",
   "name": "python3"
  },
  "language_info": {
   "codemirror_mode": {
    "name": "ipython",
    "version": 3
   },
   "file_extension": ".py",
   "mimetype": "text/x-python",
   "name": "python",
   "nbconvert_exporter": "python",
   "pygments_lexer": "ipython3",
   "version": "3.11.2"
  }
 },
 "nbformat": 4,
 "nbformat_minor": 2
}
