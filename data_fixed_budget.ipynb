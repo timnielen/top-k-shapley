{
 "cells": [
  {
   "cell_type": "code",
   "execution_count": 48,
   "metadata": {},
   "outputs": [
    {
     "name": "stdout",
     "output_type": "stream",
     "text": [
      "The autoreload extension is already loaded. To reload it, use:\n",
      "  %reload_ext autoreload\n"
     ]
    }
   ],
   "source": [
    "from game import GlobalFeatureImportance, LocalFeatureImportance, UnsupervisedFeatureImportance\n",
    "from environment import FixedBudgetEnvironment\n",
    "from algorithms.SVARM import StratSVARM\n",
    "from algorithms.CMCS import CMCS, CMCS_Dependent, CMCS_Independent, CMCS_Length, Selective_CMCS, CMCS_at_K, Variance_CMCS\n",
    "from algorithms.KernelSHAP import KernelSHAP\n",
    "from algorithms.ApproShapley import ApproShapley\n",
    "from algorithms.shap_k import SHAP_K\n",
    "import numpy as np\n",
    "import pandas as pd\n",
    "import os\n",
    "%load_ext autoreload\n",
    "%autoreload 2"
   ]
  },
  {
   "cell_type": "code",
   "execution_count": 49,
   "metadata": {},
   "outputs": [],
   "source": [
    "n=14\n",
    "K=np.arange(n-1)+1\n",
    "budget=1500\n",
    "rounds=1000\n",
    "env = FixedBudgetEnvironment(n=n, budget=budget)"
   ]
  },
  {
   "cell_type": "code",
   "execution_count": 50,
   "metadata": {},
   "outputs": [],
   "source": [
    "filepath_global = \"datasets/Global feature importance/Bike sharing regression random forest.csv\"\n",
    "filepath_unsupervised = \"datasets/Unsupervised Feature Importance/vf_Fifa.csv\"\n",
    "directory_local = \"datasets/adult_classification\"\n",
    "# game = GlobalFeatureImportance(filepath=filepath_global, num_players=n, use_cached=True)\n",
    "game = LocalFeatureImportance(directory=directory_local, num_players=n)\n",
    "# game = UnsupervisedFeatureImportance(filepath=filepath_unsupervised, num_players=n)\n",
    "# game = SumUnanimityGames()"
   ]
  },
  {
   "cell_type": "code",
   "execution_count": 51,
   "metadata": {},
   "outputs": [],
   "source": [
    "algorithms = [(\"Selective_CMCS\", Selective_CMCS()),\n",
    "              (\"ApproShapley\", ApproShapley(optimize=True)), \n",
    "              (\"CMCS\", CMCS()), \n",
    "              (\"KernelSHAP\", KernelSHAP()), \n",
    "              (\"StratSVARM(False,False)\", StratSVARM(start_exact=False, theoretical_distribution=False)),\n",
    "              (\"SHAPatK_30_001\", SHAP_K(t_min=30, delta=0.01)),\n",
    "              (\"CMCSatK_30_001\", CMCS_at_K(t_min=30, delta=0.01)),\n",
    "              (\"Variance_CMCS(T_min=30)\", Variance_CMCS(t_min=30)),\n",
    "              ]"
   ]
  },
  {
   "cell_type": "code",
   "execution_count": 52,
   "metadata": {},
   "outputs": [
    {
     "name": "stdout",
     "output_type": "stream",
     "text": [
      "Selective_CMCS\n",
      "ApproShapley\n",
      "CMCS\n",
      "KernelSHAP\n",
      "StratSVARM(False,False)\n",
      "SHAPatK_30_001\n",
      "CMCSatK_30_001\n",
      "Variance_CMCS(T_min=30)\n"
     ]
    },
    {
     "name": "stderr",
     "output_type": "stream",
     "text": [
      "c:\\Users\\Tim\\Documents\\LMU - HiWi\\top-k-shapley\\algorithms\\CMCS.py:243: RuntimeWarning: invalid value encountered in divide\n",
      "  cdf_values = scipy.stats.norm.cdf(sqrt_mij * (-diff_ij) / sigma_ij, loc=0, scale=1) # the probability that P(phi_i < phi_j), i.e. current estimation is wrong\n"
     ]
    }
   ],
   "source": [
    "results = []\n",
    "for name, algorithm in algorithms:\n",
    "    print(name)\n",
    "    results += [(name, env.evaluate(game, algorithm, K=K, rounds=rounds))]\n",
    "columns = [\"K\", \"topk_ratio\", \"topk_ratio_SE\", \"epsilon\", \"epsilon_SE\"]"
   ]
  },
  {
   "cell_type": "code",
   "execution_count": 53,
   "metadata": {},
   "outputs": [
    {
     "name": "stdout",
     "output_type": "stream",
     "text": [
      "results/data/LocalFeatureImportance/adult_classification/budget=1500_rounds=1000/k=1-13/Selective_CMCS.csv\n",
      "results/data/LocalFeatureImportance/adult_classification/budget=1500_rounds=1000/k=1-13/ApproShapley.csv\n",
      "results/data/LocalFeatureImportance/adult_classification/budget=1500_rounds=1000/k=1-13/CMCS.csv\n",
      "results/data/LocalFeatureImportance/adult_classification/budget=1500_rounds=1000/k=1-13/KernelSHAP.csv\n",
      "results/data/LocalFeatureImportance/adult_classification/budget=1500_rounds=1000/k=1-13/StratSVARM(False,False).csv\n",
      "results/data/LocalFeatureImportance/adult_classification/budget=1500_rounds=1000/k=1-13/SHAPatK_30_001.csv\n",
      "results/data/LocalFeatureImportance/adult_classification/budget=1500_rounds=1000/k=1-13/CMCSatK_30_001.csv\n",
      "results/data/LocalFeatureImportance/adult_classification/budget=1500_rounds=1000/k=1-13/Variance_CMCS(T_min=30).csv\n"
     ]
    }
   ],
   "source": [
    "for name, result in results:\n",
    "    df = pd.DataFrame(data={column: result[index] for index, column in enumerate(columns)})\n",
    "    df[\"topk_ratio_SE_plus\"] = df[\"topk_ratio\"] + df[\"topk_ratio_SE\"]\n",
    "    df[\"topk_ratio_SE_minus\"] = df[\"topk_ratio\"] - df[\"topk_ratio_SE\"]\n",
    "\n",
    "    df[\"epsilon_SE_plus\"] = df[\"epsilon\"] + df[\"epsilon_SE\"]\n",
    "    df[\"epsilon_SE_minus\"] = df[\"epsilon\"] - df[\"epsilon_SE\"]\n",
    "\n",
    "    df = df[[\"K\", \"topk_ratio\", \"topk_ratio_SE_plus\", \"topk_ratio_SE_minus\", \"epsilon\", \"epsilon_SE_plus\", \"epsilon_SE_minus\"]]\n",
    "    \n",
    "    \n",
    "    dir = f\"results/data/{game.__class__.__name__}/{game.name}/budget={budget}_rounds={rounds}/k={K[0]}-{K[-1]}\"\n",
    "    if not os.path.isdir(dir):\n",
    "        os.makedirs(dir)\n",
    "    print(f\"{dir}/{name}.csv\")\n",
    "    df.to_csv(f\"{dir}/{name}.csv\", index=False)"
   ]
  }
 ],
 "metadata": {
  "kernelspec": {
   "display_name": "shapley",
   "language": "python",
   "name": "python3"
  },
  "language_info": {
   "codemirror_mode": {
    "name": "ipython",
    "version": 3
   },
   "file_extension": ".py",
   "mimetype": "text/x-python",
   "name": "python",
   "nbconvert_exporter": "python",
   "pygments_lexer": "ipython3",
   "version": "3.11.2"
  }
 },
 "nbformat": 4,
 "nbformat_minor": 2
}
