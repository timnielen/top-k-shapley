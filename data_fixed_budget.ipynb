{
 "cells": [
  {
   "cell_type": "code",
   "execution_count": 64,
   "metadata": {},
   "outputs": [
    {
     "name": "stdout",
     "output_type": "stream",
     "text": [
      "The autoreload extension is already loaded. To reload it, use:\n",
      "  %reload_ext autoreload\n"
     ]
    }
   ],
   "source": [
    "from game import GlobalFeatureImportance, LocalFeatureImportance, UnsupervisedFeatureImportance\n",
    "from environment import FixedBudgetEnvironment\n",
    "from algorithms.SVARM import StratSVARM\n",
    "from algorithms.CMCS import CMCS, CMCS_Dependent, CMCS_Independent, CMCS_Length, Selective_CMCS\n",
    "from algorithms.KernelSHAP import KernelSHAP\n",
    "from algorithms.ApproShapley import ApproShapley\n",
    "import numpy as np\n",
    "import pandas as pd\n",
    "import os\n",
    "%load_ext autoreload\n",
    "%autoreload 2"
   ]
  },
  {
   "cell_type": "code",
   "execution_count": 65,
   "metadata": {},
   "outputs": [],
   "source": [
    "n=14\n",
    "K=np.arange(n-1)+1\n",
    "budget=1500\n",
    "rounds=1000\n",
    "step_interval=50\n",
    "metric = \"ratio\"\n",
    "env = FixedBudgetEnvironment(n=n, budget=budget)"
   ]
  },
  {
   "cell_type": "code",
   "execution_count": 66,
   "metadata": {},
   "outputs": [
    {
     "name": "stdout",
     "output_type": "stream",
     "text": [
      "[0.         0.         0.00276384 ... 0.09182107 0.08168697 0.08967141]\n",
      "[ 0.00698709  0.00212931 -0.02469719  0.00913919  0.0099256   0.01166912\n",
      "  0.00945903  0.01234841 -0.00015445  0.00210819  0.03377652  0.01190902\n",
      "  0.00521593 -0.00014437] 0.0896714095608559\n"
     ]
    }
   ],
   "source": [
    "filepath_global = \"datasets/Global feature importance/Adult classification random forest.csv\"\n",
    "filepath_unsupervised = \"datasets/Unsupervised Feature Importance/vf_Fifa.csv\"\n",
    "directory_local = \"datasets/image classifier\"\n",
    "game = GlobalFeatureImportance(filepath=filepath_global, num_players=n, use_cached=True)\n",
    "# game = LocalFeatureImportance(directory=directory_local, num_players=n)\n",
    "# game = UnsupervisedFeatureImportance(filepath=filepath_unsupervised, num_players=n)\n",
    "# game = SumUnanimityGames()"
   ]
  },
  {
   "cell_type": "code",
   "execution_count": 67,
   "metadata": {},
   "outputs": [],
   "source": [
    "algorithms = [(\"KernelSHAP\", KernelSHAP()), (\"StratSVARM(False,False)\", StratSVARM(start_exact=False, theoretical_distribution=False))]#"
   ]
  },
  {
   "cell_type": "code",
   "execution_count": 68,
   "metadata": {},
   "outputs": [],
   "source": [
    "algorithms += [(\"ApproShapley(optimized)\", ApproShapley(optimize=True)), (\"Selective_CMCS\", Selective_CMCS()), (\"CMCS\", CMCS())]"
   ]
  },
  {
   "cell_type": "code",
   "execution_count": 69,
   "metadata": {},
   "outputs": [
    {
     "name": "stdout",
     "output_type": "stream",
     "text": [
      "KernelSHAP\n",
      "StratSVARM(False,False)\n",
      "ApproShapley(optimized)\n",
      "Selective_CMCS\n",
      "CMCS\n"
     ]
    }
   ],
   "source": [
    "results = []\n",
    "columns = [\"K\", \"topk_ratio\", \"topk_ratio_SE\"]\n",
    "for name, algorithm in algorithms:\n",
    "    print(name)\n",
    "    result = env.evaluate(game, algorithm, K=K, rounds=rounds)\n",
    "    results += [(name, result)]\n",
    "    df = pd.DataFrame(data={column: result[index] for index, column in enumerate(columns)})\n",
    "    dir = f\"results/data/{game.__class__.__name__}/{game.name}/budget={budget}_rounds={rounds}/k={K[0]}-{K[-1]}\"\n",
    "    if not os.path.isdir(dir):\n",
    "        os.makedirs(dir)\n",
    "    df.to_csv(f\"{dir}/{name}.csv\", index=False)"
   ]
  }
 ],
 "metadata": {
  "kernelspec": {
   "display_name": "shapley",
   "language": "python",
   "name": "python3"
  },
  "language_info": {
   "codemirror_mode": {
    "name": "ipython",
    "version": 3
   },
   "file_extension": ".py",
   "mimetype": "text/x-python",
   "name": "python",
   "nbconvert_exporter": "python",
   "pygments_lexer": "ipython3",
   "version": "3.11.2"
  }
 },
 "nbformat": 4,
 "nbformat_minor": 2
}
