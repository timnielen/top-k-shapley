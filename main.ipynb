{
 "cells": [
  {
   "cell_type": "code",
   "execution_count": 337,
   "metadata": {},
   "outputs": [],
   "source": [
    "from environment import Environment\n",
    "import numpy as np\n",
    "from game import SumUnanimityGames, GlobalFeatureImportance, LocalFeatureImportance, UnsupervisedFeatureImportance\n",
    "from plot import plot"
   ]
  },
  {
   "cell_type": "code",
   "execution_count": 338,
   "metadata": {},
   "outputs": [
    {
     "name": "stdout",
     "output_type": "stream",
     "text": [
      "The autoreload extension is already loaded. To reload it, use:\n",
      "  %reload_ext autoreload\n"
     ]
    }
   ],
   "source": [
    "from algorithms.CMCS import *\n",
    "from algorithms.GapE import GapE\n",
    "from algorithms.SAR import SAR\n",
    "from algorithms.ApproShapley import ApproShapley\n",
    "from algorithms.BUS import BUS\n",
    "from algorithms.HybridApproBUS import SmartHybridApproBUS\n",
    "from algorithms.SVARM import SVARM, StratSVARM\n",
    "from algorithms.ShapleySort import ShapleySort\n",
    "from algorithms.KernelSHAP import KernelSHAP\n",
    "from algorithms.shap_k import SHAP_K\n",
    "%load_ext autoreload\n",
    "%autoreload 2\n",
    "%matplotlib inline"
   ]
  },
  {
   "cell_type": "code",
   "execution_count": 339,
   "metadata": {},
   "outputs": [],
   "source": [
    "n=14\n",
    "k=3\n",
    "budget=2000\n",
    "rounds=1000\n",
    "step_interval=50\n",
    "metric = \"ratio\"\n",
    "env = Environment(n=n, budget=budget, metric=metric)\n",
    "results = []"
   ]
  },
  {
   "cell_type": "code",
   "execution_count": 340,
   "metadata": {},
   "outputs": [],
   "source": [
    "np.set_printoptions(formatter={'float': lambda x: \"{0:0.3f}\".format(x)})"
   ]
  },
  {
   "cell_type": "code",
   "execution_count": 341,
   "metadata": {},
   "outputs": [],
   "source": [
    "filepath_global = \"datasets/Global feature importance/Bank marketing classification random forest.csv\"\n",
    "filepath_unsupervised = \"datasets/Unsupervised Feature Importance/vf_BigFive.csv\"\n",
    "directory_local = \"datasets/image classifier\"\n",
    "# game = GlobalFeatureImportance(filepath=filepath_global, num_players=n, use_cached=True)\n",
    "game = LocalFeatureImportance(directory=directory_local, num_players=n)\n",
    "# game = UnsupervisedFeatureImportance(filepath=filepath_unsupervised, num_players=n)\n",
    "# game = SumUnanimityGames()"
   ]
  },
  {
   "cell_type": "code",
   "execution_count": 342,
   "metadata": {},
   "outputs": [],
   "source": [
    "# values = game.values[np.newaxis, :]\n",
    "# num_games = 1\n",
    "# shapley_values = game.phi[np.newaxis, :]"
   ]
  },
  {
   "cell_type": "code",
   "execution_count": 343,
   "metadata": {},
   "outputs": [],
   "source": [
    "# var = util.calc_variance(n, values, shapley_values)[0]\n",
    "# cov = util.calc_covariance(n, values, shapley_values)[0]"
   ]
  },
  {
   "cell_type": "code",
   "execution_count": 344,
   "metadata": {},
   "outputs": [],
   "source": [
    "results += [(\"SHAP@K(T_min=30, delta=0.01)\", env.evaluate(game, SHAP_K(t_min=30, delta=0.01), k, step_interval, rounds))]"
   ]
  },
  {
   "cell_type": "code",
   "execution_count": 345,
   "metadata": {},
   "outputs": [],
   "source": [
    "# results += [(\"CMCS\", env.evaluate(game, CMCS(), k, step_interval, rounds))]\n",
    "results += [(\"Selective_CMCS\", env.evaluate(game, Selective_CMCS(), k, step_interval, rounds))]"
   ]
  },
  {
   "cell_type": "code",
   "execution_count": 346,
   "metadata": {},
   "outputs": [],
   "source": [
    "results += [(\"StratSVARM\", env.evaluate(game, StratSVARM(start_exact=False, theoretical_distribution=False), k, step_interval, rounds))]"
   ]
  },
  {
   "cell_type": "code",
   "execution_count": 1,
   "metadata": {},
   "outputs": [
    {
     "ename": "NameError",
     "evalue": "name 'plot' is not defined",
     "output_type": "error",
     "traceback": [
      "\u001b[1;31m---------------------------------------------------------------------------\u001b[0m",
      "\u001b[1;31mNameError\u001b[0m                                 Traceback (most recent call last)",
      "Cell \u001b[1;32mIn[1], line 2\u001b[0m\n\u001b[0;32m      1\u001b[0m start_at \u001b[38;5;241m=\u001b[39m \u001b[38;5;241m0\u001b[39m\n\u001b[1;32m----> 2\u001b[0m \u001b[43mplot\u001b[49m(results, start_at_x\u001b[38;5;241m=\u001b[39mstart_at, step_interval\u001b[38;5;241m=\u001b[39mstep_interval, types\u001b[38;5;241m=\u001b[39m[\u001b[38;5;124m\"\u001b[39m\u001b[38;5;124mtopk\u001b[39m\u001b[38;5;124m\"\u001b[39m, \u001b[38;5;124m\"\u001b[39m\u001b[38;5;124mmse\u001b[39m\u001b[38;5;124m\"\u001b[39m, \u001b[38;5;124m\"\u001b[39m\u001b[38;5;124mepsilon\u001b[39m\u001b[38;5;124m\"\u001b[39m], metric\u001b[38;5;241m=\u001b[39mmetric, save\u001b[38;5;241m=\u001b[39m\u001b[38;5;28;01mTrue\u001b[39;00m, filepath\u001b[38;5;241m=\u001b[39m\u001b[38;5;124mf\u001b[39m\u001b[38;5;124m\"\u001b[39m\u001b[38;5;124mresults/\u001b[39m\u001b[38;5;132;01m{\u001b[39;00mgame\u001b[38;5;241m.\u001b[39m\u001b[38;5;18m__class__\u001b[39m\u001b[38;5;241m.\u001b[39m\u001b[38;5;18m__name__\u001b[39m\u001b[38;5;132;01m}\u001b[39;00m\u001b[38;5;124m(\u001b[39m\u001b[38;5;132;01m{\u001b[39;00mgame\u001b[38;5;241m.\u001b[39mname\u001b[38;5;132;01m}\u001b[39;00m\u001b[38;5;124m)_n=\u001b[39m\u001b[38;5;132;01m{\u001b[39;00mn\u001b[38;5;132;01m}\u001b[39;00m\u001b[38;5;124m_k=\u001b[39m\u001b[38;5;132;01m{\u001b[39;00mk\u001b[38;5;132;01m}\u001b[39;00m\u001b[38;5;124m_T=\u001b[39m\u001b[38;5;132;01m{\u001b[39;00mbudget\u001b[38;5;132;01m}\u001b[39;00m\u001b[38;5;124m_r=\u001b[39m\u001b[38;5;132;01m{\u001b[39;00mrounds\u001b[38;5;132;01m}\u001b[39;00m\u001b[38;5;124m_\u001b[39m\u001b[38;5;132;01m{\u001b[39;00mmetric\u001b[38;5;132;01m}\u001b[39;00m\u001b[38;5;124m_start_at=\u001b[39m\u001b[38;5;132;01m{\u001b[39;00mstart_at\u001b[38;5;132;01m}\u001b[39;00m\u001b[38;5;124m.pdf\u001b[39m\u001b[38;5;124m\"\u001b[39m)\n",
      "\u001b[1;31mNameError\u001b[0m: name 'plot' is not defined"
     ]
    }
   ],
   "source": [
    "start_at = 0\n",
    "plot(results, start_at_x=start_at, step_interval=step_interval, types=[\"topk\", \"mse\", \"epsilon\"], metric=metric, save=True, filepath=f\"results/{game.__class__.__name__}({game.name})_n={n}_k={k}_T={budget}_r={rounds}_{metric}_start_at={start_at}.pdf\")"
   ]
  },
  {
   "cell_type": "code",
   "execution_count": 348,
   "metadata": {},
   "outputs": [],
   "source": [
    "# def pdf(x, mu, variance):\n",
    "#     return  np.exp((-(x-mu)**2)/(2*variance)) / np.sqrt(2*math.pi*variance)"
   ]
  },
  {
   "cell_type": "code",
   "execution_count": 349,
   "metadata": {},
   "outputs": [],
   "source": [
    "# plt.style.use(plt.style.library['ggplot'])\n",
    "# plt.rcParams.update({'font.size': 12})\n",
    "# plt.rcParams['legend.frameon'] = False\n",
    "# plt.rcParams['lines.markersize'] = 10\n",
    "# fig, ax = plt.subplots(1, 1, figsize=(8,5), dpi=1000)\n",
    "# x = np.arange(100)/10 - 5\n",
    "# target_mu = 3\n",
    "# target_sigma = 1\n",
    "# values1 = pdf(x, 0, 1)\n",
    "# values2 = pdf(x, 1, 1)\n",
    "# samples = np.random.normal(1, 1, (10000))\n",
    "# weights = pdf(samples, 0, 1) / pdf(samples, 1, 1)\n",
    "# sum_weights = np.sum(weights)\n",
    "# new_samples = np.zeros((1000))\n",
    "# for j in range(1000):\n",
    "#     totalweight = 0\n",
    "#     for i, sample in enumerate(samples):\n",
    "#         totalweight += weights[i]\n",
    "#         if np.random.rand() < weights[i]/totalweight:\n",
    "#             new_samples[j] = sample\n",
    "#     # new_samples[j] = np.random.choice(samples, p=weights/sum_weights)\n",
    "\n",
    "# def histo(samples):\n",
    "#     num, edges = np.histogram(samples, bins=100)\n",
    "#     x = edges[:-1]\n",
    "#     width = edges[1:]-edges[:-1]\n",
    "#     area = np.sum(num * width)\n",
    "#     densities = num/area\n",
    "#     return x, densities, width \n",
    "# ax.plot(x, values1, \".-\", linewidth=2.0)\n",
    "# ax.plot(x, values2, \".-\", linewidth=2.0)\n",
    "# preX, preDensity, preWidth  = histo(samples)\n",
    "# newX, newDensity, newWidth  = histo(new_samples)\n",
    "# ax.bar(preX, preDensity, preWidth, alpha=0.8)\n",
    "# ax.bar(newX, newDensity, newWidth, alpha=0.8)\n",
    "# # ax.plot(np.sort(samples), pdf(np.sort(samples), 1, 1), \".-\", linewidth=2.0)"
   ]
  }
 ],
 "metadata": {
  "kernelspec": {
   "display_name": "shapley",
   "language": "python",
   "name": "python3"
  },
  "language_info": {
   "codemirror_mode": {
    "name": "ipython",
    "version": 3
   },
   "file_extension": ".py",
   "mimetype": "text/x-python",
   "name": "python",
   "nbconvert_exporter": "python",
   "pygments_lexer": "ipython3",
   "version": "3.11.2"
  },
  "orig_nbformat": 4
 },
 "nbformat": 4,
 "nbformat_minor": 2
}
