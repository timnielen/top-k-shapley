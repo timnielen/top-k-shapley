{
 "cells": [
  {
   "cell_type": "code",
   "execution_count": 1,
   "metadata": {},
   "outputs": [
    {
     "name": "stderr",
     "output_type": "stream",
     "text": [
      "c:\\Users\\Public\\anaconda3\\envs\\shapley\\Lib\\site-packages\\tqdm\\auto.py:21: TqdmWarning: IProgress not found. Please update jupyter and ipywidgets. See https://ipywidgets.readthedocs.io/en/stable/user_install.html\n",
      "  from .autonotebook import tqdm as notebook_tqdm\n"
     ]
    }
   ],
   "source": [
    "from game import GlobalFeatureImportance, LocalFeatureImportance, UnsupervisedFeatureImportance\n",
    "from environment import Environment\n",
    "from algorithms.SVARM import StratSVARM\n",
    "from algorithms.CMCS import CMCS, CMCS_Dependent, CMCS_Independent, CMCS_Length, Selective_CMCS\n",
    "from algorithms.KernelSHAP import KernelSHAP\n",
    "from algorithms.ApproShapley import ApproShapley\n",
    "import pandas as pd\n",
    "import os\n",
    "%load_ext autoreload\n",
    "%autoreload 2"
   ]
  },
  {
   "cell_type": "code",
   "execution_count": 2,
   "metadata": {},
   "outputs": [],
   "source": [
    "n=14\n",
    "k=3\n",
    "budget=1500\n",
    "rounds=1000\n",
    "step_interval=50\n",
    "metric = \"ratio\"\n",
    "env = Environment(n=n, budget=budget, metric=metric)"
   ]
  },
  {
   "cell_type": "code",
   "execution_count": 3,
   "metadata": {},
   "outputs": [
    {
     "name": "stdout",
     "output_type": "stream",
     "text": [
      "[0.         0.         0.00276384 ... 0.09182107 0.08168697 0.08967141]\n",
      "[ 0.00698709  0.00212931 -0.02469719  0.00913919  0.0099256   0.01166912\n",
      "  0.00945903  0.01234841 -0.00015445  0.00210819  0.03377652  0.01190902\n",
      "  0.00521593 -0.00014437] 0.0896714095608559\n"
     ]
    }
   ],
   "source": [
    "filepath_global = \"datasets/Global feature importance/Adult classification random forest.csv\"\n",
    "filepath_unsupervised = \"datasets/Unsupervised Feature Importance/vf_Fifa.csv\"\n",
    "directory_local = \"datasets/adult_classification\"\n",
    "game = GlobalFeatureImportance(filepath=filepath_global, num_players=n, use_cached=True)\n",
    "# game = LocalFeatureImportance(directory=directory_local, num_players=n)\n",
    "# game = UnsupervisedFeatureImportance(filepath=filepath_unsupervised, num_players=n)\n",
    "# game = SumUnanimityGames()"
   ]
  },
  {
   "cell_type": "code",
   "execution_count": 87,
   "metadata": {},
   "outputs": [],
   "source": [
    "# algorithms = [(\"Selective_CMCS(alternative)\", Selective_CMCS())]"
   ]
  },
  {
   "cell_type": "code",
   "execution_count": 88,
   "metadata": {},
   "outputs": [],
   "source": [
    "# algorithms = [(\"StratSVARM(False,False)\", StratSVARM(start_exact=False, theoretical_distribution=False)), (\"KernelSHAP\", KernelSHAP())]"
   ]
  },
  {
   "cell_type": "code",
   "execution_count": 89,
   "metadata": {},
   "outputs": [],
   "source": [
    "# algorithms += [(\"ApproShapley(optimized)\", ApproShapley(optimize=True)), (\"Selective_CMCS\", Selective_CMCS()), (\"CMCS\", CMCS())]"
   ]
  },
  {
   "cell_type": "code",
   "execution_count": 90,
   "metadata": {},
   "outputs": [],
   "source": [
    "results = []\n",
    "for name, algorithm in algorithms:\n",
    "    results += [(name, env.evaluate(game, algorithm, k, step_interval, rounds))]\n",
    "columns = [\"budget\", \"topk_ratio\", \"topk_ratio_SE\", \"mse\", \"mse_SE\", \"topk_sum\", \"topk_sum_SE\"]"
   ]
  },
  {
   "cell_type": "code",
   "execution_count": 91,
   "metadata": {},
   "outputs": [
    {
     "name": "stdout",
     "output_type": "stream",
     "text": [
      "results/data/GlobalFeatureImportance/Adult classification random forest/budget=1500_rounds=1000/k=3 Selective_CMCS(alternative)\n"
     ]
    }
   ],
   "source": [
    "for algorithm, result in results:\n",
    "    df = pd.DataFrame(data={column: result[index] for index, column in enumerate(columns)})\n",
    "    dir = f\"results/data/{game.__class__.__name__}/{game.name}/budget={budget}_rounds={rounds}/k={k}\"\n",
    "    print(dir, algorithm)\n",
    "    if not os.path.isdir(dir):\n",
    "        os.makedirs(dir)\n",
    "    df.to_csv(f\"{dir}/{algorithm}.csv\", index=False)"
   ]
  },
  {
   "cell_type": "code",
   "execution_count": 134,
   "metadata": {},
   "outputs": [],
   "source": []
  }
 ],
 "metadata": {
  "kernelspec": {
   "display_name": "shapley",
   "language": "python",
   "name": "python3"
  },
  "language_info": {
   "codemirror_mode": {
    "name": "ipython",
    "version": 3
   },
   "file_extension": ".py",
   "mimetype": "text/x-python",
   "name": "python",
   "nbconvert_exporter": "python",
   "pygments_lexer": "ipython3",
   "version": "3.11.2"
  }
 },
 "nbformat": 4,
 "nbformat_minor": 2
}
