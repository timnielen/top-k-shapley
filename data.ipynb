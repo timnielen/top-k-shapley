{
 "cells": [
  {
   "cell_type": "code",
   "execution_count": 72,
   "metadata": {},
   "outputs": [
    {
     "name": "stdout",
     "output_type": "stream",
     "text": [
      "The autoreload extension is already loaded. To reload it, use:\n",
      "  %reload_ext autoreload\n"
     ]
    }
   ],
   "source": [
    "from game import GlobalFeatureImportance, LocalFeatureImportance, UnsupervisedFeatureImportance\n",
    "from environment import Environment\n",
    "from algorithms.SVARM import StratSVARM\n",
    "from algorithms.CMCS import CMCS, CMCS_Dependent, CMCS_Independent, CMCS_Length, Selective_CMCS\n",
    "from algorithms.KernelSHAP import KernelSHAP\n",
    "from algorithms.ApproShapley import ApproShapley\n",
    "from algorithms.shap_k import SHAP_K\n",
    "import pandas as pd\n",
    "import os\n",
    "%load_ext autoreload\n",
    "%autoreload 2"
   ]
  },
  {
   "cell_type": "code",
   "execution_count": 73,
   "metadata": {},
   "outputs": [],
   "source": [
    "n=14\n",
    "k=3\n",
    "budget=1500\n",
    "rounds=1000\n",
    "step_interval=50\n",
    "metric = \"ratio\"\n",
    "env = Environment(n=n, budget=budget, metric=metric)"
   ]
  },
  {
   "cell_type": "code",
   "execution_count": 74,
   "metadata": {},
   "outputs": [],
   "source": [
    "filepath_global = \"datasets/Global feature importance/Bank marketing classification random forest.csv\"\n",
    "filepath_unsupervised = \"datasets/Unsupervised Feature Importance/vf_Fifa.csv\"\n",
    "directory_local = \"datasets/image classifier\"\n",
    "# game = GlobalFeatureImportance(filepath=filepath_global, num_players=n, use_cached=True)\n",
    "game = LocalFeatureImportance(directory=directory_local, num_players=n)\n",
    "# game = UnsupervisedFeatureImportance(filepath=filepath_unsupervised, num_players=n)\n",
    "# game = SumUnanimityGames()"
   ]
  },
  {
   "cell_type": "code",
   "execution_count": 75,
   "metadata": {},
   "outputs": [],
   "source": [
    "# algorithms = [(\"Selective_CMCS\", Selective_CMCS()),\n",
    "#               (\"ApproShapley\", ApproShapley(optimize=True)), \n",
    "#               (\"CMCS\", CMCS()), \n",
    "#               (\"KernelSHAP\", KernelSHAP()), \n",
    "#               (\"StratSVARM(False,False)\", StratSVARM(start_exact=False, theoretical_distribution=False)),\n",
    "#               (\"SHAP@K(T_min=15, delta=0.01)\", SHAP_K(t_min=15, delta=0.01))\n",
    "#               ]"
   ]
  },
  {
   "cell_type": "code",
   "execution_count": 76,
   "metadata": {},
   "outputs": [],
   "source": [
    "algorithms = [(\"CMCS_Dependent\", CMCS_Dependent()),\n",
    "              (\"CMCS_Independent\", CMCS_Independent()),\n",
    "              (\"CMCS_Length\", CMCS_Length())]"
   ]
  },
  {
   "cell_type": "code",
   "execution_count": 77,
   "metadata": {},
   "outputs": [
    {
     "name": "stdout",
     "output_type": "stream",
     "text": [
      "CMCS_Dependent\n",
      "CMCS_Independent\n",
      "CMCS_Length\n"
     ]
    }
   ],
   "source": [
    "results = []\n",
    "for name, algorithm in algorithms:\n",
    "    print(name)\n",
    "    results += [(name, env.evaluate(game, algorithm, k, step_interval, rounds))]\n",
    "columns = [\"budget\", \"topk_ratio\", \"topk_ratio_SE\", \"mse\", \"mse_SE\", \"topk_sum\", \"topk_sum_SE\", \"epsilon\", \"epsilon_SE\"]"
   ]
  },
  {
   "cell_type": "code",
   "execution_count": 78,
   "metadata": {},
   "outputs": [
    {
     "name": "stdout",
     "output_type": "stream",
     "text": [
      "results/data/LocalFeatureImportance/image classifier/budget=1500_rounds=1000/k=3 CMCS_Dependent\n",
      "results/data/LocalFeatureImportance/image classifier/budget=1500_rounds=1000/k=3 CMCS_Independent\n",
      "results/data/LocalFeatureImportance/image classifier/budget=1500_rounds=1000/k=3 CMCS_Length\n"
     ]
    }
   ],
   "source": [
    "for algorithm, result in results:\n",
    "    df = pd.DataFrame(data={column: result[index] for index, column in enumerate(columns)})\n",
    "    dir = f\"results/data/{game.__class__.__name__}/{game.name}/budget={budget}_rounds={rounds}/k={k}\"\n",
    "    print(dir, algorithm)\n",
    "    df[\"topk_ratio_SE_plus\"] = df[\"topk_ratio\"] + df[\"topk_ratio_SE\"]\n",
    "    df[\"topk_ratio_SE_minus\"] = df[\"topk_ratio\"] - df[\"topk_ratio_SE\"]\n",
    "\n",
    "\n",
    "    df[\"mse_SE_plus\"] = df[\"mse\"] + df[\"mse_SE\"]\n",
    "    df[\"mse_SE_minus\"] = df[\"mse\"] - df[\"mse_SE\"]\n",
    "\n",
    "    df[\"topk_sum_SE_plus\"] = df[\"topk_sum\"] + df[\"topk_sum_SE\"]\n",
    "    df[\"topk_sum_SE_minus\"] = df[\"topk_sum\"] - df[\"topk_sum_SE\"]\n",
    "\n",
    "    df[\"epsilon_SE_plus\"] = df[\"epsilon\"] + df[\"epsilon_SE\"]\n",
    "    df[\"epsilon_SE_minus\"] = df[\"epsilon\"] - df[\"epsilon_SE\"]\n",
    "\n",
    "    df = df[[\"budget\", \"topk_ratio\", \"topk_ratio_SE_plus\", \"topk_ratio_SE_minus\", \"mse\", \"mse_SE_plus\", \"mse_SE_minus\", \"epsilon\", \"epsilon_SE_plus\", \"epsilon_SE_minus\", \"topk_sum\", \"topk_sum_SE_plus\", \"topk_sum_SE_minus\"]]\n",
    "    if not os.path.isdir(dir):\n",
    "        os.makedirs(dir)\n",
    "    df.to_csv(f\"{dir}/{algorithm}.csv\", index=False)"
   ]
  },
  {
   "cell_type": "code",
   "execution_count": 134,
   "metadata": {},
   "outputs": [],
   "source": []
  }
 ],
 "metadata": {
  "kernelspec": {
   "display_name": "shapley",
   "language": "python",
   "name": "python3"
  },
  "language_info": {
   "codemirror_mode": {
    "name": "ipython",
    "version": 3
   },
   "file_extension": ".py",
   "mimetype": "text/x-python",
   "name": "python",
   "nbconvert_exporter": "python",
   "pygments_lexer": "ipython3",
   "version": "3.11.2"
  }
 },
 "nbformat": 4,
 "nbformat_minor": 2
}
