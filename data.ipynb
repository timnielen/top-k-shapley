{
 "cells": [
  {
   "cell_type": "code",
   "execution_count": 162,
   "metadata": {},
   "outputs": [
    {
     "name": "stdout",
     "output_type": "stream",
     "text": [
      "The autoreload extension is already loaded. To reload it, use:\n",
      "  %reload_ext autoreload\n"
     ]
    }
   ],
   "source": [
    "from game import GlobalFeatureImportance, LocalFeatureImportance, UnsupervisedFeatureImportance\n",
    "from environment import Environment\n",
    "from algorithms.SVARM import StratSVARM\n",
    "from algorithms.CMCS import CMCS, CMCS_Dependent, CMCS_Independent, CMCS_Length, Selective_CMCS\n",
    "from algorithms.KernelSHAP import KernelSHAP\n",
    "import pandas as pd\n",
    "import os\n",
    "%load_ext autoreload\n",
    "%autoreload 2"
   ]
  },
  {
   "cell_type": "code",
   "execution_count": 163,
   "metadata": {},
   "outputs": [],
   "source": [
    "n=14\n",
    "k=3\n",
    "budget=1500\n",
    "rounds=1000\n",
    "step_interval=50\n",
    "metric = \"ratio\"\n",
    "env = Environment(n=n, budget=budget, metric=metric)"
   ]
  },
  {
   "cell_type": "code",
   "execution_count": 164,
   "metadata": {},
   "outputs": [],
   "source": [
    "filepath_global = \"datasets/Global feature importance/Adult classification random forest.csv\"\n",
    "filepath_unsupervised = \"datasets/Unsupervised Feature Importance/vf_Fifa.csv\"\n",
    "directory_local = \"datasets/adult_classification\"\n",
    "# game = GlobalFeatureImportance(filepath=filepath_global, num_players=n, use_cached=True)\n",
    "game = LocalFeatureImportance(directory=directory_local, num_players=n)\n",
    "# game = UnsupervisedFeatureImportance(filepath=filepath_unsupervised, num_players=n)\n",
    "# game = SumUnanimityGames()"
   ]
  },
  {
   "cell_type": "code",
   "execution_count": 165,
   "metadata": {},
   "outputs": [],
   "source": [
    "algorithms = [(\"StratSVARM(False,False)\", StratSVARM(start_exact=False, theoretical_distribution=False)), (\"KernelSHAP\", KernelSHAP())]"
   ]
  },
  {
   "cell_type": "code",
   "execution_count": 166,
   "metadata": {},
   "outputs": [],
   "source": [
    "results = []\n",
    "for name, algorithm in algorithms:\n",
    "    results += [(name, env.evaluate(game, algorithm, k, step_interval, rounds))]\n",
    "columns = [\"budget\", \"topk_ratio\", \"topk_ratio_SE\", \"mse\", \"mse_SE\", \"topk_sum\", \"topk_sum_SE\"]"
   ]
  },
  {
   "cell_type": "code",
   "execution_count": 167,
   "metadata": {},
   "outputs": [],
   "source": [
    "for algorithm, result in results:\n",
    "    df = pd.DataFrame(data={column: result[index] for index, column in enumerate(columns)})\n",
    "    dir = f\"results/data/{game.__class__.__name__}/{game.name}/budget={budget}_rounds={rounds}/k={k}\"\n",
    "    if not os.path.isdir(dir):\n",
    "        os.makedirs(dir)\n",
    "    df.to_csv(f\"{dir}/{algorithm}.csv\", index=False)"
   ]
  },
  {
   "cell_type": "code",
   "execution_count": 134,
   "metadata": {},
   "outputs": [],
   "source": []
  }
 ],
 "metadata": {
  "kernelspec": {
   "display_name": "shapley",
   "language": "python",
   "name": "python3"
  },
  "language_info": {
   "codemirror_mode": {
    "name": "ipython",
    "version": 3
   },
   "file_extension": ".py",
   "mimetype": "text/x-python",
   "name": "python",
   "nbconvert_exporter": "python",
   "pygments_lexer": "ipython3",
   "version": "3.11.2"
  }
 },
 "nbformat": 4,
 "nbformat_minor": 2
}
